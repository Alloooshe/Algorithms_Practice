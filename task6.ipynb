{
 "cells": [
  {
   "cell_type": "markdown",
   "metadata": {},
   "source": [
    "## Task 6. Algorithms on graphs. Path search algorithms on weighted graphs\n",
    "\n",
    "------- \n",
    "\n",
    "### Goal\n",
    "The use of path search algorithms on weighted graphs (Dijkstra's, A* and Bellman-\n",
    "Ford algorithms)\n",
    "\n",
    "-----\n",
    "\n",
    "### Problems and methods\n",
    "\n",
    "I. Generate a random adjacency matrix for a simple undirected weighted graph of 100 vertices and 500 edges with assigned random positive integer weights (note that the matrix should be symmetric and contain only 0s and weights as elements). Use Dijkstra's and Bellman-Ford algorithms to find shortest paths between a random starting vertex and other vertices. Measure the time required to find the paths for each algorithm. Repeat the experiment 10 times for the same starting vertex and calculate the average time required for the paths search of each algorithm. Analyse the results obtained.\n",
    "\n",
    "II. Generate a 10x10 cell grid with 30 obstacle cells. Choose two random non-obstacle cells and find a shortest path between them using A* algorithm. Repeat the experiment 5 times with different random pair of cells. Analyse the results obtained.\n",
    "\n",
    "III. Describe the data structures and design techniques used within the algorithms.\n",
    "\n",
    "--------\n",
    "\n",
    "### Content \n",
    "### Part 1 :  Dijkstra's and Bellman-Ford algorithms\n",
    "### Part 2 : A* and obstacles"
   ]
  },
  {
   "cell_type": "code",
   "execution_count": 31,
   "metadata": {},
   "outputs": [],
   "source": [
    "'''\n",
    "    import lib\n",
    "'''\n",
    "import pandas \n",
    "from pandas import *\n",
    "from random import randrange\n",
    "import numpy as np\n",
    "import sys \n",
    "import time "
   ]
  },
  {
   "cell_type": "markdown",
   "metadata": {},
   "source": [
    "### Part 1 :  Dijkstra's and Bellman-Ford algorithms"
   ]
  },
  {
   "cell_type": "code",
   "execution_count": 2,
   "metadata": {},
   "outputs": [
    {
     "name": "stdout",
     "output_type": "stream",
     "text": [
      "1000\n"
     ]
    }
   ],
   "source": [
    "#adjacency matrix \n",
    "\n",
    "edges  = [randrange(100) for i in range (1000)]\n",
    "adj_mat = np.zeros(shape=(100,100))\n",
    "for i in range (500) : \n",
    "    a,b=edges[i],edges[i+500]\n",
    "    while a==b : \n",
    "        b=randrange(100)\n",
    "    while not adj_mat[a,b] ==0 :\n",
    "        a= randrange(100)\n",
    "        b=randrange(100)\n",
    "        \n",
    "    adj_mat[a,b] =randrange(1,100)\n",
    "    adj_mat[b,a]=randrange(1,100)\n",
    "\n",
    "\n",
    "\n",
    "check_edges = np.count_nonzero(adj_mat)\n",
    "print(check_edges)    "
   ]
  },
  {
   "cell_type": "code",
   "execution_count": 3,
   "metadata": {},
   "outputs": [
    {
     "name": "stdout",
     "output_type": "stream",
     "text": [
      "[ 0.  0.  0.  0.  0.  0.  0.  0.  0.  0.  0.  0.  0.  0.  0.  0.  0.  0.\n",
      " 54. 81.  0.  0.  0. 81.  0.  0.  0.  0.  0. 11.  0.  0.  0.  0.  0.  0.\n",
      "  0.  0.  0.  0. 16.  0. 93.  0.  0.  0.  0.  0.  0. 81.  0.  0.  0.  0.\n",
      " 73.  0.  0.  0. 44. 28.  0.  0.  0. 65.  0.  0.  0.  0.  0.  0.  0.  0.\n",
      "  0.  0.  0. 92.  0.  0.  0.  0.  0.  0.  0.  0.  0.  0.  0.  0.  0.  0.\n",
      "  0.  0.  0.  0.  0.  0.  0.  0.  0.  0.]\n"
     ]
    }
   ],
   "source": [
    "print(adj_mat[0,:])"
   ]
  },
  {
   "cell_type": "code",
   "execution_count": 27,
   "metadata": {},
   "outputs": [],
   "source": [
    "class Graph(): \n",
    "   \n",
    "    def __init__(self, vertices): \n",
    "        self.V = vertices \n",
    "        self.graph_elist = []\n",
    "        self.graph = [[0 for column in range(vertices)]  \n",
    "                    for row in range(vertices)] \n",
    "   \n",
    "    def printSolution(self, dist): \n",
    "        print (\"Vertex tDistance from Source\") \n",
    "        for node in range(self.V): \n",
    "            print (node, \" shortest distance from source \", dist[node]) \n",
    "   \n",
    "    # A utility function to find the vertex with  \n",
    "    # minimum distance value, from the set of vertices  \n",
    "    # not yet included in shortest path tree \n",
    "    def minDistance(self, dist, sptSet): \n",
    "   \n",
    "        # Initilaize minimum distance for next node \n",
    "        min = sys.maxsize \n",
    "   \n",
    "        # Search not nearest vertex not in the  \n",
    "        # shortest path tree \n",
    "        for v in range(self.V): \n",
    "            if dist[v] < min and sptSet[v] == False: \n",
    "                min = dist[v] \n",
    "                min_index = v \n",
    "   \n",
    "        return min_index \n",
    "\n",
    "    def to_elist(self)  :\n",
    "        for i in range(self.V) : \n",
    "            for j in range (self.V) : \n",
    "                if not self.graph[i,j] == 0  : \n",
    "                    self.graph_elist.append([i,j,self.graph[i,j]])\n",
    "    \n",
    "    def BellmanFord(self, src,show=False ):  \n",
    "        # Step 1: Initialize distances from src to all other vertices  \n",
    "        # as INFINITE  \n",
    "        dist = [float(\"Inf\")] * self.V  \n",
    "        dist[src] = 0\n",
    "        for _ in range(self.V - 1):  \n",
    "            # Update dist value and parent index of the adjacent vertices of  \n",
    "            # the picked vertex. Consider only those vertices which are still in  \n",
    "            # queue  \n",
    "            for u, v, w in self.graph_elist:  \n",
    "                if dist[u] != float(\"Inf\") and dist[u] + w < dist[v]:  \n",
    "                    dist[v] = dist[u] + w  \n",
    "                    \n",
    "        # Step 3: check for negative-weight cycles. The above step  \n",
    "        # guarantees shortest distances if graph doesn't contain  \n",
    "        # negative weight cycle. If we get a shorter path, then there  \n",
    "        # is a cycle.  \n",
    "  \n",
    "        for u, v, w in self.graph_elist:  \n",
    "                if dist[u] != float(\"Inf\") and dist[u] + w < dist[v]:  \n",
    "                        print(\"Graph contains negative weight cycle\") \n",
    "                        return\n",
    "                          \n",
    "        # print all distance  \n",
    "        if show : \n",
    "            self.printSolution(dist)\n",
    "                    \n",
    "    # Funtion that implements Dijkstra's single source  \n",
    "    # shortest path algorithm for a graph represented  \n",
    "    # using adjacency matrix representation \n",
    "    def dijkstra(self, src,show =False ): \n",
    "   \n",
    "        dist = [sys.maxsize] * self.V \n",
    "        dist[src] = 0\n",
    "        sptSet = [False] * self.V \n",
    "        prev = [sys.maxsize] * self.V \n",
    "        for cout in range(self.V): \n",
    "   \n",
    "            # Pick the minimum distance vertex from  \n",
    "            # the set of vertices not yet processed.  \n",
    "            # u is always equal to src in first iteration \n",
    "            u = self.minDistance(dist, sptSet) \n",
    "   \n",
    "            # Put the minimum distance vertex in the  \n",
    "            # shotest path tree \n",
    "            sptSet[u] = True\n",
    "   \n",
    "            # Update dist value of the adjacent vertices  \n",
    "            # of the picked vertex only if the current  \n",
    "            # distance is greater than new distance and \n",
    "            # the vertex in not in the shotest path tree \n",
    "            for v in range(self.V): \n",
    "                if self.graph[u][v] > 0 and sptSet[v] == False and dist[v] > dist[u] + self.graph[u][v]: \n",
    "                     dist[v] = dist[u] + self.graph[u][v] \n",
    "                     prev[v]= u \n",
    "        if show : \n",
    "            self.printSolution(dist)\n",
    "        return dist,prev \n",
    "\n"
   ]
  },
  {
   "cell_type": "code",
   "execution_count": 57,
   "metadata": {},
   "outputs": [
    {
     "name": "stdout",
     "output_type": "stream",
     "text": [
      "1000\n"
     ]
    }
   ],
   "source": [
    "\n",
    "edges  = [randrange(100) for i in range (1000)]\n",
    "adj_mat = np.zeros(shape=(100,100))\n",
    "for i in range (500) : \n",
    "    a,b=edges[i],edges[i+500]\n",
    "    while a==b : \n",
    "        b=randrange(100)\n",
    "    while not adj_mat[a,b] ==0 :\n",
    "        a= randrange(100)\n",
    "        b=randrange(100)\n",
    "        \n",
    "    adj_mat[a,b] =randrange(1,100)\n",
    "    adj_mat[b,a]=randrange(1,100)\n",
    "\n",
    "\n",
    "\n",
    "check_edges = np.count_nonzero(adj_mat)\n",
    "print(check_edges)  \n",
    "g = Graph(100) \n",
    "g.graph = adj_mat\n",
    "#generate edge list representation of the graph, we don't count this as a time cost for BellmanFord algorithm\n",
    "# we do it because we want to reach the thepritical time cost of BellmanFord which is O(|V||E|)\n",
    "\n",
    "g.to_elist()\n"
   ]
  },
  {
   "cell_type": "code",
   "execution_count": 39,
   "metadata": {},
   "outputs": [],
   "source": [
    "time_resutls_dijkstra = [] \n",
    "time_resutls_billmanford = [] "
   ]
  },
  {
   "cell_type": "code",
   "execution_count": 58,
   "metadata": {},
   "outputs": [
    {
     "name": "stdout",
     "output_type": "stream",
     "text": [
      "----\n",
      "0.01060175895690918\n",
      "0.04623270034790039\n"
     ]
    }
   ],
   "source": [
    "# use show = True to print the results \n",
    "\n",
    "start =time.time()\n",
    "g.dijkstra(0,show=False)\n",
    "end=time.time()\n",
    "time_resutls_dijkstra.append((end-start))\n",
    "print('----')\n",
    "start =time.time()\n",
    "g.BellmanFord(0,show=False)\n",
    "end=time.time()\n",
    "time_resutls_billmanford.append((end-start))\n",
    "print(time_resutls_dijkstra[-1])\n",
    "print(time_resutls_billmanford[-1])"
   ]
  },
  {
   "cell_type": "code",
   "execution_count": 59,
   "metadata": {},
   "outputs": [
    {
     "name": "stdout",
     "output_type": "stream",
     "text": [
      "[0.01094961166381836, 0.010387897491455078, 0.012813091278076172, 0.011078119277954102, 0.010569334030151367, 0.0248868465423584, 0.010570049285888672, 0.010668277740478516, 0.010955810546875, 0.01060175895690918]\n",
      "\n",
      "[0.04663515090942383, 0.05136871337890625, 0.04336118698120117, 0.044023990631103516, 0.04542946815490723, 0.04195141792297363, 0.05368828773498535, 0.04669523239135742, 0.04467368125915527, 0.04623270034790039]\n"
     ]
    }
   ],
   "source": [
    "print(time_resutls_dijkstra)\n",
    "print()\n",
    "print(time_resutls_billmanford)"
   ]
  },
  {
   "cell_type": "code",
   "execution_count": 62,
   "metadata": {},
   "outputs": [
    {
     "name": "stdout",
     "output_type": "stream",
     "text": [
      "0.012348079681396484\n",
      "0.046405982971191403\n"
     ]
    }
   ],
   "source": [
    "print(np.average(time_resutls_dijkstra))\n",
    "print(np.average(time_resutls_billmanford))"
   ]
  },
  {
   "cell_type": "code",
   "execution_count": 24,
   "metadata": {
    "collapsed": true
   },
   "outputs": [
    {
     "name": "stdout",
     "output_type": "stream",
     "text": [
      "0   9223372036854775807\n",
      "1   36\n",
      "2   66\n",
      "3   68\n",
      "4   83\n",
      "5   94\n",
      "6   77\n",
      "7   86\n",
      "8   40\n",
      "9   47\n",
      "10   94\n",
      "11   91\n",
      "12   86\n",
      "13   66\n",
      "14   63\n",
      "15   40\n",
      "16   66\n",
      "17   75\n",
      "18   0\n",
      "19   94\n",
      "20   59\n",
      "21   75\n",
      "22   72\n",
      "23   36\n",
      "24   64\n",
      "25   2\n",
      "26   60\n",
      "27   40\n",
      "28   59\n",
      "29   0\n",
      "30   59\n",
      "31   50\n",
      "32   76\n",
      "33   8\n",
      "34   94\n",
      "35   68\n",
      "36   40\n",
      "37   8\n",
      "38   25\n",
      "39   86\n",
      "40   0\n",
      "41   28\n",
      "42   8\n",
      "43   72\n",
      "44   29\n",
      "45   63\n",
      "46   50\n",
      "47   27\n",
      "48   86\n",
      "49   0\n",
      "50   72\n",
      "51   72\n",
      "52   15\n",
      "53   28\n",
      "54   59\n",
      "55   58\n",
      "56   96\n",
      "57   8\n",
      "58   0\n",
      "59   8\n",
      "60   59\n",
      "61   13\n",
      "62   88\n",
      "63   59\n",
      "64   91\n",
      "65   36\n",
      "66   30\n",
      "67   5\n",
      "68   29\n",
      "69   39\n",
      "70   36\n",
      "71   8\n",
      "72   71\n",
      "73   30\n",
      "74   34\n",
      "75   57\n",
      "76   59\n",
      "77   30\n",
      "78   35\n",
      "79   5\n",
      "80   71\n",
      "81   55\n",
      "82   32\n",
      "83   20\n",
      "84   94\n",
      "85   13\n",
      "86   36\n",
      "87   14\n",
      "88   8\n",
      "89   40\n",
      "90   96\n",
      "91   71\n",
      "92   91\n",
      "93   6\n",
      "94   59\n",
      "95   24\n",
      "96   2\n",
      "97   47\n",
      "98   34\n",
      "99   60\n"
     ]
    }
   ],
   "source": [
    "for i in range (len(result[1])) : \n",
    "    print(i , ' ', result[1][i])"
   ]
  },
  {
   "cell_type": "code",
   "execution_count": 25,
   "metadata": {},
   "outputs": [
    {
     "name": "stdout",
     "output_type": "stream",
     "text": [
      "[[0, 18, 54.0], [0, 19, 81.0], [0, 23, 81.0], [0, 29, 11.0], [0, 40, 16.0], [0, 42, 93.0], [0, 49, 81.0], [0, 54, 73.0], [0, 58, 44.0], [0, 59, 28.0], [0, 63, 65.0], [0, 75, 92.0]]\n",
      "\n",
      "[[40, 48, 79.0], [40, 63, 95.0], [40, 74, 98.0], [40, 89, 1.0]]\n",
      "\n",
      "[[36, 37, 34.0], [36, 40, 75.0], [36, 53, 80.0], [36, 58, 22.0], [36, 65, 16.0], [36, 70, 29.0], [36, 86, 7.0], [36, 89, 36.0]]\n",
      "\n",
      "[[1, 9, 24.0], [1, 14, 56.0], [1, 20, 49.0], [1, 27, 11.0], [1, 29, 94.0], [1, 36, 30.0], [1, 41, 90.0], [1, 56, 12.0], [1, 66, 61.0], [1, 74, 97.0], [1, 75, 88.0], [1, 82, 62.0], [1, 90, 39.0], [1, 98, 98.0]]\n",
      "\n"
     ]
    }
   ],
   "source": [
    "#correctensse check .. \n",
    "related_1 =  [v for v in g.graph_elist if v[0]==0]\n",
    "related_2 = [v for v in g.graph_elist if v[0]==40]\n",
    "related_3 = [v for v in g.graph_elist if v[0]==36]\n",
    "related_4 = [v for v in g.graph_elist if v[0]==1]\n",
    "print(related_1)\n",
    "print()\n",
    "print(related_2)\n",
    "print()\n",
    "print(related_3)\n",
    "print()\n",
    "print(related_4)\n",
    "print()"
   ]
  },
  {
   "cell_type": "code",
   "execution_count": 26,
   "metadata": {
    "scrolled": true
   },
   "outputs": [
    {
     "name": "stdout",
     "output_type": "stream",
     "text": [
      "16.0\n",
      "11.0\n",
      "21.0\n"
     ]
    }
   ],
   "source": []
  },
  {
   "cell_type": "code",
   "execution_count": 5,
   "metadata": {},
   "outputs": [],
   "source": [
    "           "
   ]
  },
  {
   "cell_type": "code",
   "execution_count": null,
   "metadata": {},
   "outputs": [],
   "source": []
  },
  {
   "cell_type": "markdown",
   "metadata": {},
   "source": [
    "### Part 2 : A* and obstacles"
   ]
  },
  {
   "cell_type": "code",
   "execution_count": 63,
   "metadata": {},
   "outputs": [],
   "source": [
    "#for this part we use open-source implementation which makes visualization easier \n",
    "def heuristic(a, b) :\n",
    "    (x1, y1) = a\n",
    "    (x2, y2) = b\n",
    "    return abs(x1 - x2) + abs(y1 - y2)\n",
    "\n",
    "def a_star_search(graph, start, goal):\n",
    "    frontier = PriorityQueue()\n",
    "    frontier.put(start, 0)\n",
    "    came_from: Dict[Location, Optional[Location]] = {}\n",
    "    cost_so_far: Dict[Location, float] = {}\n",
    "    came_from[start] = None\n",
    "    cost_so_far[start] = 0\n",
    "    \n",
    "    while not frontier.empty():\n",
    "        current: Location = frontier.get()\n",
    "        \n",
    "        if current == goal:\n",
    "            break\n",
    "        \n",
    "        for next in graph.neighbors(current):\n",
    "            new_cost = cost_so_far[current] + graph.cost(current, next)\n",
    "            if next not in cost_so_far or new_cost < cost_so_far[next]:\n",
    "                cost_so_far[next] = new_cost\n",
    "                priority = new_cost + heuristic(goal, next)\n",
    "                frontier.put(next, priority)\n",
    "                came_from[next] = current\n",
    "    \n",
    "    return came_from, cost_so_far"
   ]
  },
  {
   "cell_type": "code",
   "execution_count": 105,
   "metadata": {},
   "outputs": [],
   "source": [
    "from implementation import *\n",
    "time_resutls_A_star = [] "
   ]
  },
  {
   "cell_type": "code",
   "execution_count": 114,
   "metadata": {},
   "outputs": [
    {
     "name": "stdout",
     "output_type": "stream",
     "text": [
      "[(1, 4), (5, 0), (0, 4), (3, 3), (2, 7), (2, 3), (3, 5), (3, 6), (0, 6), (2, 2), (1, 8), (8, 6), (8, 4), (6, 9), (7, 3), (2, 2), (4, 1), (1, 1), (5, 0), (1, 0), (3, 0), (0, 3), (5, 4), (1, 4), (8, 0), (5, 4), (1, 7), (8, 1), (5, 0), (4, 5)]\n",
      "(6, 2) (2, 6)\n"
     ]
    }
   ],
   "source": [
    "\n",
    "diagram4 = GridWithWeights(10, 10)\n",
    "walls = [randrange(10) for i in range (60)]\n",
    "diagram4.walls = [(walls[i],walls[i+30]) for  i in range(30) ]\n",
    "start_end_points = [randrange(10) for i in range (4)]\n",
    "start, goal = (start_end_points[0], start_end_points[1]), (start_end_points[2], start_end_points[3])\n",
    "\n",
    "while  start in diagram4.walls or  goal in diagram4.walls :\n",
    "    start_end_points = [randrange(10) for i in range (4)]\n",
    "    start, goal = (start_end_points[0], start_end_points[1]), (start_end_points[2], start_end_points[3])\n",
    "\n",
    "print(diagram4.walls)\n",
    "print(start,goal)"
   ]
  },
  {
   "cell_type": "code",
   "execution_count": 115,
   "metadata": {},
   "outputs": [
    {
     "name": "stdout",
     "output_type": "stream",
     "text": [
      "______________________________\n",
      " . ### . ### . ### .  . ### . \n",
      " . ### .  . ### .  .  . ### . \n",
      " .  . ### .  @  @  @  .  .  . \n",
      "### . ###### @  .  . ### .  . \n",
      "###### @  @  @ ### .  . ### . \n",
      " .  .  @ ###### .  .  .  .  . \n",
      "### .  @ ### .  .  .  . ### . \n",
      " . ###### .  .  .  .  .  .  . \n",
      " . ### .  .  .  .  .  .  .  . \n",
      " .  .  .  .  .  . ### .  .  . \n",
      "~~~~~~~~~~~~~~~~~~~~~~~~~~~~~~\n"
     ]
    }
   ],
   "source": [
    "time_start = time.time()\n",
    "came_from, cost_so_far = a_star_search(diagram4, start, goal)\n",
    "time_end=time.time()\n",
    "time_resutls_A_star.append((time_end-time_start))\n",
    "draw_grid(diagram4, path=reconstruct_path(came_from, start=start, goal=goal))"
   ]
  },
  {
   "cell_type": "code",
   "execution_count": 116,
   "metadata": {},
   "outputs": [
    {
     "name": "stdout",
     "output_type": "stream",
     "text": [
      "[0.00014519691467285156, 0.00029659271240234375, 0.00031447410583496094, 0.00018477439880371094, 0.00016736984252929688]\n"
     ]
    }
   ],
   "source": [
    "print(time_resutls_A_star)"
   ]
  },
  {
   "cell_type": "code",
   "execution_count": null,
   "metadata": {},
   "outputs": [],
   "source": []
  }
 ],
 "metadata": {
  "kernelspec": {
   "display_name": "Python 3",
   "language": "python",
   "name": "python3"
  },
  "language_info": {
   "codemirror_mode": {
    "name": "ipython",
    "version": 3
   },
   "file_extension": ".py",
   "mimetype": "text/x-python",
   "name": "python",
   "nbconvert_exporter": "python",
   "pygments_lexer": "ipython3",
   "version": "3.8.5"
  }
 },
 "nbformat": 4,
 "nbformat_minor": 4
}
