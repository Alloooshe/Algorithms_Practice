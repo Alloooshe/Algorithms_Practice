{
 "cells": [
  {
   "cell_type": "markdown",
   "metadata": {},
   "source": [
    "# Task 8 : Practical analysis of advanced algorithms\n",
    "\n",
    "## Goal \n",
    "Practical analysis of advanced algorithms\n",
    "\n",
    "## Task for the students well-experienced in algorithm analysis:\n",
    "\n",
    "I. Choose an algorithm (interesting to you and not considered in the course) from the above-mentioned book sections.\n",
    "II. Choose an algorithm interesting to you and proposed at most 10 years ago in a research paper for solving a certain practical problem (including optimization algorithms, graph algorithms, etc.).\n",
    "III. Analyse the chosen algorithms in terms of time and space complexity, design technique used, etc. Implement the algorithms (or use the existing ones from the research paper) and produce several experiments. Your experiments should differ of those in the research paper. Analyse the results.\n",
    "\n",
    "## Content \n",
    "### 1- code for Part 1 : greedy algorithm for activity selection problem\n",
    "### 2- visulaization "
   ]
  },
  {
   "cell_type": "code",
   "execution_count": 70,
   "metadata": {},
   "outputs": [],
   "source": [
    "from random import randrange\n",
    "import time\n",
    "import numpy as np\n",
    "%matplotlib inline\n",
    "import matplotlib.pyplot as plt"
   ]
  },
  {
   "cell_type": "code",
   "execution_count": 53,
   "metadata": {
    "collapsed": true
   },
   "outputs": [
    {
     "name": "stdout",
     "output_type": "stream",
     "text": [
      " a0_dummy : start time : 0  finish time :0 \n",
      "\n",
      " a1 : start time : 0  finish time :3 \n",
      "\n",
      " a2 : start time : 0  finish time :4 \n",
      "\n",
      " a3 : start time : 1  finish time :4 \n",
      "\n",
      " a4 : start time : 1  finish time :4 \n",
      "\n",
      " a5 : start time : 1  finish time :5 \n",
      "\n",
      " a6 : start time : 0  finish time :6 \n",
      "\n",
      " a7 : start time : 1  finish time :7 \n",
      "\n",
      " a8 : start time : 4  finish time :10 \n",
      "\n",
      " a9 : start time : 7  finish time :11 \n",
      "\n",
      " a10 : start time : 1  finish time :11 \n",
      "\n",
      " a11 : start time : 0  finish time :11 \n",
      "\n",
      " a12 : start time : 8  finish time :12 \n",
      "\n",
      " a13 : start time : 10  finish time :13 \n",
      "\n",
      " a14 : start time : 3  finish time :13 \n",
      "\n",
      " a15 : start time : 12  finish time :14 \n",
      "\n",
      " a16 : start time : 4  finish time :15 \n",
      "\n",
      " a17 : start time : 12  finish time :18 \n",
      "\n",
      " a18 : start time : 17  finish time :18 \n",
      "\n",
      " a19 : start time : 16  finish time :18 \n",
      "\n",
      " a20 : start time : 6  finish time :19 \n",
      "\n",
      " a21 : start time : 0  finish time :22 \n",
      "\n",
      " a22 : start time : 20  finish time :23 \n",
      "\n",
      " a23 : start time : 23  finish time :24 \n",
      "\n",
      " a24 : start time : 3  finish time :27 \n",
      "\n",
      " a25 : start time : 5  finish time :28 \n",
      "\n",
      " a26 : start time : 21  finish time :28 \n",
      "\n",
      " a27 : start time : 24  finish time :29 \n",
      "\n",
      " a28 : start time : 2  finish time :29 \n",
      "\n",
      " a29 : start time : 21  finish time :32 \n",
      "\n",
      " a30 : start time : 0  finish time :33 \n",
      "\n",
      " a31 : start time : 11  finish time :33 \n",
      "\n",
      " a32 : start time : 15  finish time :34 \n",
      "\n",
      " a33 : start time : 4  finish time :35 \n",
      "\n",
      " a34 : start time : 4  finish time :39 \n",
      "\n",
      " a35 : start time : 35  finish time :39 \n",
      "\n",
      " a36 : start time : 5  finish time :40 \n",
      "\n",
      " a37 : start time : 21  finish time :40 \n",
      "\n",
      " a38 : start time : 22  finish time :42 \n",
      "\n",
      " a39 : start time : 6  finish time :44 \n",
      "\n",
      " a40 : start time : 13  finish time :46 \n",
      "\n",
      " a41 : start time : 32  finish time :47 \n",
      "\n",
      " a42 : start time : 46  finish time :48 \n",
      "\n",
      " a43 : start time : 14  finish time :48 \n",
      "\n",
      " a44 : start time : 29  finish time :49 \n",
      "\n",
      " a45 : start time : 3  finish time :49 \n",
      "\n",
      " a46 : start time : 9  finish time :50 \n",
      "\n",
      " a47 : start time : 27  finish time :50 \n",
      "\n",
      " a48 : start time : 16  finish time :51 \n",
      "\n",
      " a49 : start time : 2  finish time :52 \n",
      "\n",
      " a50 : start time : 41  finish time :53 \n",
      "\n",
      " a51 : start time : 51  finish time :53 \n",
      "\n",
      " a52 : start time : 16  finish time :57 \n",
      "\n",
      " a53 : start time : 37  finish time :58 \n",
      "\n",
      " a54 : start time : 38  finish time :58 \n",
      "\n",
      " a55 : start time : 53  finish time :58 \n",
      "\n",
      " a56 : start time : 10  finish time :60 \n",
      "\n",
      " a57 : start time : 1  finish time :64 \n",
      "\n",
      " a58 : start time : 2  finish time :64 \n",
      "\n",
      " a59 : start time : 54  finish time :65 \n",
      "\n",
      " a60 : start time : 37  finish time :65 \n",
      "\n",
      " a61 : start time : 50  finish time :66 \n",
      "\n",
      " a62 : start time : 18  finish time :67 \n",
      "\n",
      " a63 : start time : 17  finish time :68 \n",
      "\n",
      " a64 : start time : 41  finish time :69 \n",
      "\n",
      " a65 : start time : 61  finish time :70 \n",
      "\n",
      " a66 : start time : 10  finish time :70 \n",
      "\n",
      " a67 : start time : 5  finish time :70 \n",
      "\n",
      " a68 : start time : 40  finish time :72 \n",
      "\n",
      " a69 : start time : 49  finish time :74 \n",
      "\n",
      " a70 : start time : 40  finish time :75 \n",
      "\n",
      " a71 : start time : 71  finish time :75 \n",
      "\n",
      " a72 : start time : 5  finish time :76 \n",
      "\n",
      " a73 : start time : 12  finish time :77 \n",
      "\n",
      " a74 : start time : 21  finish time :79 \n",
      "\n",
      " a75 : start time : 16  finish time :80 \n",
      "\n",
      " a76 : start time : 10  finish time :80 \n",
      "\n",
      " a77 : start time : 63  finish time :82 \n",
      "\n",
      " a78 : start time : 43  finish time :83 \n",
      "\n",
      " a79 : start time : 66  finish time :83 \n",
      "\n",
      " a80 : start time : 64  finish time :84 \n",
      "\n",
      " a81 : start time : 36  finish time :84 \n",
      "\n",
      " a82 : start time : 9  finish time :84 \n",
      "\n",
      " a83 : start time : 50  finish time :85 \n",
      "\n",
      " a84 : start time : 44  finish time :86 \n",
      "\n",
      " a85 : start time : 80  finish time :86 \n",
      "\n",
      " a86 : start time : 13  finish time :86 \n",
      "\n",
      " a87 : start time : 22  finish time :88 \n",
      "\n",
      " a88 : start time : 25  finish time :89 \n",
      "\n",
      " a89 : start time : 8  finish time :89 \n",
      "\n",
      " a90 : start time : 4  finish time :90 \n",
      "\n",
      " a91 : start time : 42  finish time :92 \n",
      "\n",
      " a92 : start time : 40  finish time :93 \n",
      "\n",
      " a93 : start time : 61  finish time :93 \n",
      "\n",
      " a94 : start time : 9  finish time :94 \n",
      "\n",
      " a95 : start time : 31  finish time :95 \n",
      "\n",
      " a96 : start time : 30  finish time :95 \n",
      "\n",
      " a97 : start time : 76  finish time :95 \n",
      "\n",
      " a98 : start time : 62  finish time :97 \n",
      "\n",
      " a99 : start time : 82  finish time :99 \n",
      "\n"
     ]
    }
   ],
   "source": [
    "n= 100\n",
    "maxtime = 100 \n",
    "activites = []\n",
    "start_times= [] \n",
    "finish_times = sorted([randrange(maxtime)  for i in range (n)])\n",
    "activites.append('a0_dummy')\n",
    "start_times.append(0)\n",
    "for i in range (1,n):\n",
    "    activites.append('a'+str(i))\n",
    "    start_time = randrange(finish_times[i])\n",
    "    start_times.append(start_time)\n",
    "for i in range (n )  : \n",
    "    print (\" %s : start time : %i  finish time :%i \" % (activites[i],start_times[i],finish_times[i]) )\n",
    "    print()\n"
   ]
  },
  {
   "cell_type": "code",
   "execution_count": 55,
   "metadata": {},
   "outputs": [],
   "source": [
    "ac_time_cost = [] \n",
    "def activity_selector (s,f,k,n,activites) : \n",
    "    m = k+1 \n",
    "    while m<n and s[m] < f[k] : \n",
    "        m=m+1\n",
    "    if m<n :  \n",
    "        #if k ==0 : \n",
    "        #    return activites[k]+' '+activites[m] + ' ' +  activity_selector(s,f,m,n,activites)\n",
    "        #else : \n",
    "            return activites[m] + ' ' +  activity_selector(s,f,m,n,activites)\n",
    "    else : return ''"
   ]
  },
  {
   "cell_type": "code",
   "execution_count": 56,
   "metadata": {},
   "outputs": [
    {
     "name": "stdout",
     "output_type": "stream",
     "text": [
      "a1 a8 a13 a18 a22 a23 a27 a35 a42 a51 a55 a65 a71 a85 \n",
      "54\n"
     ]
    }
   ],
   "source": [
    "start = time.time ()\n",
    "result = activity_selector(start_times,finish_times,0,n,activites)\n",
    "end= time.time()\n",
    "ac_time_cost.append((end-start))\n",
    "print(result)\n",
    "print(len(result))"
   ]
  },
  {
   "cell_type": "code",
   "execution_count": 57,
   "metadata": {},
   "outputs": [
    {
     "name": "stdout",
     "output_type": "stream",
     "text": [
      "[0.00019407272338867188]\n"
     ]
    }
   ],
   "source": [
    "print(ac_time_cost)"
   ]
  },
  {
   "cell_type": "code",
   "execution_count": 40,
   "metadata": {},
   "outputs": [
    {
     "name": "stdout",
     "output_type": "stream",
     "text": [
      "0.00015082359313964844\n"
     ]
    }
   ],
   "source": [
    "print(np.average(ac_time_cost))"
   ]
  },
  {
   "cell_type": "code",
   "execution_count": 81,
   "metadata": {},
   "outputs": [],
   "source": [
    "#run experiement on values of n in range [1,2000]\n",
    "ac_time_cost = [] \n",
    "maxtime = 100 \n",
    "for n in range (1,2001) : \n",
    "    #generate data   \n",
    "    activites = []\n",
    "    start_times= [] \n",
    "    finish_times = sorted([randrange(2,maxtime)  for i in range (n)])\n",
    "    activites.append('a0_dummy')\n",
    "    start_times.append(0)\n",
    "    for i in range (1,n):\n",
    "        activites.append('a'+str(i))\n",
    "        start_time = randrange(finish_times[i])\n",
    "        start_times.append(start_time)\n",
    "    start = time.time ()\n",
    "    result = activity_selector(start_times,finish_times,0,n,activites)\n",
    "    end= time.time()\n",
    "    ac_time_cost.append((end-start))"
   ]
  },
  {
   "cell_type": "markdown",
   "metadata": {},
   "source": [
    "### visulaiztion "
   ]
  },
  {
   "cell_type": "code",
   "execution_count": 77,
   "metadata": {},
   "outputs": [],
   "source": [
    "#some helper functions \n",
    "def func_cal_poly(param,x) :\n",
    "    ret = 0 \n",
    "    for t in range (len(param)) : \n",
    "        ret+= param[t] * (x ** (len(param)-t-1) )\n",
    "    return ret \n",
    "\n",
    "def calculate_poly(param) :\n",
    "    \n",
    "    x = np.arange(2000)\n",
    "    y= [func_cal_poly(param,i) for i in x]\n",
    "    return y "
   ]
  },
  {
   "cell_type": "code",
   "execution_count": 82,
   "metadata": {},
   "outputs": [
    {
     "name": "stdout",
     "output_type": "stream",
     "text": [
      "[1.05513655e-07 4.97649492e-06]\n"
     ]
    },
    {
     "name": "stderr",
     "output_type": "stream",
     "text": [
      "<ipython-input-82-dbd7b2c57a3d>:10: MatplotlibDeprecationWarning: Adding an axes using the same arguments as a previous axes currently reuses the earlier instance.  In a future version, a new instance will always be created and returned.  Meanwhile, this warning can be suppressed, and the future behavior ensured, by passing a unique label to each axes instance.\n",
      "  ax = plt.axes()\n"
     ]
    },
    {
     "data": {
      "image/png": "[encoded data removed]",
      "text/plain": [
       "<Figure size 1440x720 with 1 Axes>"
      ]
     },
     "metadata": {
      "needs_background": "light"
     },
     "output_type": "display_data"
    }
   ],
   "source": [
    "deg = 1\n",
    "param = np.polyfit(np.array(range(2000)),np.array(ac_time_cost),deg)\n",
    "print(param)\n",
    "est = calculate_poly(param)\n",
    "\n",
    "fig = plt.figure(figsize=(20,10))\n",
    "plt.title(\"Experimental time complexity analysis of greedy activity selector changing n values\")\n",
    "plt.xlabel(\"step\")\n",
    "plt.ylabel(\"time cost\")\n",
    "ax = plt.axes()\n",
    "\n",
    "ax.plot(range(2000),np.array(ac_time_cost),color='blue', label='Experimental',linewidth=2)\n",
    "ax.plot(range(2000),est,color='red', label='Estimation',linewidth=3)\n",
    "plt.legend();"
   ]
  },
  {
   "cell_type": "code",
   "execution_count": null,
   "metadata": {},
   "outputs": [],
   "source": [
    "deg = 1\n",
    "param = np.polyfit(np.array(range(2000)),np.array(ac_time_cost),deg)\n",
    "print(param)\n",
    "est = calculate_poly(param)\n",
    "\n",
    "fig = plt.figure(figsize=(20,10))\n",
    "plt.title(\"Experimental time complexity analysis of greedy activity selector changing n values\")\n",
    "plt.xlabel(\"step\")\n",
    "plt.ylabel(\"time cost\")\n",
    "ax = plt.axes()\n",
    "\n",
    "ax.plot(range(2000),np.array(ac_time_cost),color='blue', label='Experimental',linewidth=2)\n",
    "ax.plot(range(2000),est,color='red', label='Estimation',linewidth=3)\n",
    "plt.legend();"
   ]
  }
 ],
 "metadata": {
  "kernelspec": {
   "display_name": "Python 3",
   "language": "python",
   "name": "python3"
  },
  "language_info": {
   "codemirror_mode": {
    "name": "ipython",
    "version": 3
   },
   "file_extension": ".py",
   "mimetype": "text/x-python",
   "name": "python",
   "nbconvert_exporter": "python",
   "pygments_lexer": "ipython3",
   "version": "3.8.5"
  }
 },
 "nbformat": 4,
 "nbformat_minor": 4
}
